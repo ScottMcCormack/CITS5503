{
 "cells": [
  {
   "cell_type": "code",
   "execution_count": 1,
   "metadata": {
    "collapsed": true
   },
   "outputs": [],
   "source": [
    "import random\n",
    "import time\n",
    "from operator import add\n",
    "\n",
    "def grow(seed):\n",
    "    random.seed(seed)\n",
    "    portfolio_value = INVESTMENT_INIT\n",
    "    for i in range(TERM):\n",
    "        growth = random.normalvariate(MKT_AVG_RETURN, MKT_STD_DEV)\n",
    "        portfolio_value += portfolio_value * growth + INVESTMENT_ANN\n",
    "    return portfolio_value"
   ]
  },
  {
   "cell_type": "code",
   "execution_count": 2,
   "metadata": {
    "collapsed": false
   },
   "outputs": [],
   "source": [
    "seeds = sc.parallelize([time.time() + i for i in xrange(10000)])"
   ]
  },
  {
   "cell_type": "code",
   "execution_count": 5,
   "metadata": {
    "collapsed": false
   },
   "outputs": [],
   "source": [
    "results = seeds.map(grow)\n",
    "\n",
    "INVESTMENT_INIT = 100000 # starting amount\n",
    "INVESTMENT_ANN = 10000  # yearly new investment\n",
    "TERM = 30  # number of years\n",
    "MKT_AVG_RETURN = 0.11  # percentage\n",
    "MKT_STD_DEV = 0.18\n",
    "\n",
    "sum = results.reduce(add)"
   ]
  },
  {
   "cell_type": "code",
   "execution_count": 6,
   "metadata": {
    "collapsed": false
   },
   "outputs": [
    {
     "name": "stdout",
     "output_type": "stream",
     "text": [
      "4270184.19796\n"
     ]
    }
   ],
   "source": [
    "print sum / 10000."
   ]
  },
  {
   "cell_type": "code",
   "execution_count": 7,
   "metadata": {
    "collapsed": true
   },
   "outputs": [],
   "source": [
    "MKT_AVG_RETURN = 0.07"
   ]
  },
  {
   "cell_type": "code",
   "execution_count": 11,
   "metadata": {
    "collapsed": false
   },
   "outputs": [
    {
     "name": "stdout",
     "output_type": "stream",
     "text": [
      "1704128.22067\n"
     ]
    }
   ],
   "source": [
    "print sc.parallelize([time.time() + i for i in xrange(10000)]) \\\n",
    "    .map(grow).reduce(add) / 10000."
   ]
  },
  {
   "cell_type": "code",
   "execution_count": 16,
   "metadata": {
    "collapsed": false
   },
   "outputs": [
    {
     "name": "stdout",
     "output_type": "stream",
     "text": [
      "1478681353.93\n"
     ]
    }
   ],
   "source": [
    "print(time.time())"
   ]
  },
  {
   "cell_type": "code",
   "execution_count": null,
   "metadata": {
    "collapsed": true
   },
   "outputs": [],
   "source": []
  }
 ],
 "metadata": {
  "anaconda-cloud": {},
  "kernelspec": {
   "display_name": "PySpark",
   "language": "python",
   "name": "pyspark"
  },
  "language_info": {
   "codemirror_mode": {
    "name": "ipython",
    "version": 2
   },
   "file_extension": ".py",
   "mimetype": "text/x-python",
   "name": "python",
   "nbconvert_exporter": "python",
   "pygments_lexer": "ipython2",
   "version": "2.7.12"
  }
 },
 "nbformat": 4,
 "nbformat_minor": 1
}
